{
 "cells": [
  {
   "cell_type": "code",
   "execution_count": 50,
   "id": "fa819403-a091-4b00-95de-861319646f90",
   "metadata": {},
   "outputs": [],
   "source": [
    "import pandas as pd"
   ]
  },
  {
   "cell_type": "code",
   "execution_count": 51,
   "id": "3d42d25c-77e3-4168-b6ee-3eac21987d81",
   "metadata": {},
   "outputs": [],
   "source": [
    "# carrega o arquivo csv que vai servir de base de dados do projeto\n",
    "df = pd.read_csv('./aniversariantes.csv', sep=';')"
   ]
  },
  {
   "cell_type": "code",
   "execution_count": 52,
   "id": "b51795a2-1429-453e-b0e8-441daccc23e8",
   "metadata": {},
   "outputs": [],
   "source": [
    "# lista de colunas que terão seus nomes substituidos\n",
    "listColumns = [\"r.a.\",\n",
    "\"aluno\",\n",
    "\"periodoLetivo\",\n",
    "\"codigoCurso\",\n",
    "\"curso\",\n",
    "\"codigoHabilitacao\",\n",
    "\"habilitacao\",\n",
    "\"turma\",\n",
    "\"situacaoMatricula\",\n",
    "\"codigoMatrizCurricular\",\n",
    "\"tipoMatricula\",\n",
    "\"matrizCurricular\",\n",
    "\"turno\",\n",
    "\"dataMatricula\",\n",
    "\"coeficienteRendimento\",\n",
    "\"codigoInstituicaoDestino\",\n",
    "\"motivoTransferencia\",\n",
    "\"anoReferencia\",\n",
    "\"codigoUsuario\",\n",
    "\"e-mail\",\n",
    "\"dataSolicitacaoAlteracao\",\n",
    "\"resultado\",\n",
    "\"telefone\",\n",
    "\"polo\",\n",
    "\"codigoTipoCurso\",\n",
    "\"sexo\",\n",
    "\"nascimento\",\n",
    "\"gestorPolo\"\n",
    "]"
   ]
  },
  {
   "cell_type": "code",
   "execution_count": 53,
   "id": "70c7fe5b-ae6a-4283-920c-fe1354a150bf",
   "metadata": {},
   "outputs": [],
   "source": [
    "# troca os nomes das colunas do dataframe pelos nomes que tem na lista listColumns\n",
    "df.columns = listColumns"
   ]
  },
  {
   "cell_type": "code",
   "execution_count": 54,
   "id": "795888cd-deca-4425-9853-9437ffcd7722",
   "metadata": {},
   "outputs": [],
   "source": [
    "# lista de colunas que serão dropadas\n",
    "dropColumns = [\"r.a.\",\n",
    "\"periodoLetivo\",\n",
    "\"codigoCurso\",\n",
    "\"codigoHabilitacao\",\n",
    "\"habilitacao\",\n",
    "\"situacaoMatricula\",\n",
    "\"codigoMatrizCurricular\",\n",
    "\"tipoMatricula\",\n",
    "\"matrizCurricular\",\n",
    "\"turno\",\n",
    "\"dataMatricula\",\n",
    "\"coeficienteRendimento\",\n",
    "\"codigoInstituicaoDestino\",\n",
    "\"motivoTransferencia\",\n",
    "\"anoReferencia\",\n",
    "\"codigoUsuario\",\n",
    "\"e-mail\",\n",
    "\"dataSolicitacaoAlteracao\",\n",
    "\"resultado\",\n",
    "\"telefone\",\n",
    "\"polo\",\n",
    "\"codigoTipoCurso\",\n",
    "\"sexo\",\n",
    "\"gestorPolo\"\n",
    "]"
   ]
  },
  {
   "cell_type": "code",
   "execution_count": 55,
   "id": "931ab817-a309-447e-af45-2207b3192b9e",
   "metadata": {},
   "outputs": [],
   "source": [
    "# dropa as colunas da lista dropColumns\n",
    "df = df.drop(columns = dropColumns)"
   ]
  },
  {
   "cell_type": "code",
   "execution_count": 56,
   "id": "66a4a640-4bc4-4cb5-8d58-dc11ddc22896",
   "metadata": {},
   "outputs": [],
   "source": [
    "# remoção das linhas com valor pensionato da coluna curso\n",
    "df = df[df['curso'] != 'Pensionato']"
   ]
  },
  {
   "cell_type": "code",
   "execution_count": 57,
   "id": "fe8a83ed-bbb8-4cd6-a262-c9c85f82ddc7",
   "metadata": {},
   "outputs": [],
   "source": [
    "# remoção dos duplicados com base na coluna alunos\n",
    "df = df.drop_duplicates(subset=['aluno'])"
   ]
  },
  {
   "cell_type": "code",
   "execution_count": 58,
   "id": "9bee9838-0fbf-44e1-84b7-b59402f5133c",
   "metadata": {},
   "outputs": [],
   "source": [
    "# lista de referência para substituir o semestre do curso pelo ano do curso\n",
    "listYears = {\n",
    "    r'.*(01|02).*' : '1º ano',\n",
    "    r'.*(03|04).*' : '2º ano',\n",
    "    r'.*(05|06).*' : '3º ano',\n",
    "    r'.*(07|08).*' : '4º ano',\n",
    "    r'.*(09|10).*' : '5º ano',\n",
    "}"
   ]
  },
  {
   "cell_type": "code",
   "execution_count": 59,
   "id": "dd8819a3-b51c-4c4e-9f7b-be10fe6cd364",
   "metadata": {},
   "outputs": [],
   "source": [
    "# altera o semestre do curso para o ano do curso com base na tabela listYears\n",
    "df['turma'] = df['turma'].replace(listYears, regex=True)"
   ]
  },
  {
   "cell_type": "code",
   "execution_count": 60,
   "id": "225e2cb0-1393-482f-ab73-a4fab3875b19",
   "metadata": {},
   "outputs": [],
   "source": [
    "# pega a string de data no formato \"dd/MM/yyyy\" e retira os 2 dígitos do mês que tem nela\n",
    "df['nascimento'] = df['nascimento'].str[3:5]"
   ]
  },
  {
   "cell_type": "code",
   "execution_count": 64,
   "id": "25317743-000f-4a9e-a3ff-5141edafdfc7",
   "metadata": {},
   "outputs": [],
   "source": [
    "# ordena a tabela pelas colunas de nascimento, curso, turma e aluno\n",
    "df.sort_values(by=['nascimento', 'curso', 'turma', 'aluno'], inplace=True)"
   ]
  },
  {
   "cell_type": "code",
   "execution_count": 65,
   "id": "88dd9407-dbd4-4eaa-8b5c-6591d98d947d",
   "metadata": {},
   "outputs": [],
   "source": [
    "# dicionário para substituir os numeros da coluna nascimento pelos nomes dos meses\n",
    "listMonth = {\n",
    "    '01':'Janeiro',\n",
    "    '02':'Fevereiro',\n",
    "    '03':'Março',\n",
    "    '04':'Abril',\n",
    "    '05':'Maio',\n",
    "    '06':'Junho',\n",
    "    '07':'Julho',\n",
    "    '08':'Agosto',\n",
    "    '09':'Setembro',\n",
    "    '10':'Outubro',\n",
    "    '11':'Novembro',\n",
    "    '12':'Dezembro'\n",
    "}"
   ]
  },
  {
   "cell_type": "code",
   "execution_count": 66,
   "id": "33983eed-5a7d-44a7-835e-6d4502c1c2b3",
   "metadata": {},
   "outputs": [],
   "source": [
    "# troca o numero do mês de nascimento pelo nome do mês na lista listMonth\n",
    "df['nascimento'] = df['nascimento'].replace(listMonth)"
   ]
  },
  {
   "cell_type": "code",
   "execution_count": 68,
   "id": "67ca5ea9-9b29-4e3d-bf14-8370045c7767",
   "metadata": {},
   "outputs": [],
   "source": [
    "# gravação do csv com os arquivos processados\n",
    "df.to_csv('./aniversariantes_processado.csv', sep=';', index=False)"
   ]
  }
 ],
 "metadata": {
  "kernelspec": {
   "display_name": "Python 3 (ipykernel)",
   "language": "python",
   "name": "python3"
  },
  "language_info": {
   "codemirror_mode": {
    "name": "ipython",
    "version": 3
   },
   "file_extension": ".py",
   "mimetype": "text/x-python",
   "name": "python",
   "nbconvert_exporter": "python",
   "pygments_lexer": "ipython3",
   "version": "3.11.2"
  }
 },
 "nbformat": 4,
 "nbformat_minor": 5
}
