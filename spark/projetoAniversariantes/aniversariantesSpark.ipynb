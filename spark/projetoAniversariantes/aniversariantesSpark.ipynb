{
 "cells": [
  {
   "cell_type": "code",
   "execution_count": null,
   "id": "01ef3775-872c-466a-b795-9e499758ea5b",
   "metadata": {},
   "outputs": [],
   "source": [
    "import findspark\n",
    "findspark.init()"
   ]
  },
  {
   "cell_type": "code",
   "execution_count": 2,
   "id": "34e8193e-c6ac-42f3-bb88-fa5e4964e711",
   "metadata": {},
   "outputs": [
    {
     "name": "stderr",
     "output_type": "stream",
     "text": [
      "25/08/25 07:49:15 WARN Utils: Your hostname, inet resolves to a loopback address: 127.0.1.1; using 10.11.94.116 instead (on interface enp0s3)\n",
      "25/08/25 07:49:15 WARN Utils: Set SPARK_LOCAL_IP if you need to bind to another address\n",
      "Setting default log level to \"WARN\".\n",
      "To adjust logging level use sc.setLogLevel(newLevel). For SparkR, use setLogLevel(newLevel).\n",
      "25/08/25 07:49:16 WARN NativeCodeLoader: Unable to load native-hadoop library for your platform... using builtin-java classes where applicable\n",
      "25/08/25 07:49:17 WARN Utils: Service 'SparkUI' could not bind on port 4040. Attempting port 4041.\n",
      "25/08/25 07:49:17 WARN Utils: Service 'SparkUI' could not bind on port 4041. Attempting port 4042.\n"
     ]
    }
   ],
   "source": [
    "from pyspark.sql import SparkSession\n",
    "\n",
    "# inicia a sessão do spark\n",
    "spark = SparkSession.builder\\\n",
    "        .appName('sniversariantes')\\\n",
    "        .getOrCreate()"
   ]
  },
  {
   "cell_type": "code",
   "execution_count": 21,
   "id": "f7391cf7-ef04-497c-b352-1d985312751c",
   "metadata": {},
   "outputs": [
    {
     "data": {
      "text/html": [
       "\n",
       "            <div>\n",
       "                <p><b>SparkSession - in-memory</b></p>\n",
       "                \n",
       "        <div>\n",
       "            <p><b>SparkContext</b></p>\n",
       "\n",
       "            <p><a href=\"http://10.11.94.116:4042\">Spark UI</a></p>\n",
       "\n",
       "            <dl>\n",
       "              <dt>Version</dt>\n",
       "                <dd><code>v3.5.6</code></dd>\n",
       "              <dt>Master</dt>\n",
       "                <dd><code>local[*]</code></dd>\n",
       "              <dt>AppName</dt>\n",
       "                <dd><code>sniversariantes</code></dd>\n",
       "            </dl>\n",
       "        </div>\n",
       "        \n",
       "            </div>\n",
       "        "
      ],
      "text/plain": [
       "<pyspark.sql.session.SparkSession at 0x7f8dce5d2fd0>"
      ]
     },
     "execution_count": 21,
     "metadata": {},
     "output_type": "execute_result"
    }
   ],
   "source": [
    "# exibe a sessão do spark\n",
    "spark"
   ]
  },
  {
   "cell_type": "code",
   "execution_count": 22,
   "id": "6fcd98ff-f550-4c58-8ab7-87eca264ee53",
   "metadata": {},
   "outputs": [],
   "source": [
    "# carrega o arquivo csv que vai servir de base de dados do projeto\n",
    "df = spark.read.csv('./aniversariantes.csv', sep=';', header=True, encoding='utf-8')"
   ]
  },
  {
   "cell_type": "code",
   "execution_count": 23,
   "id": "d0bb729a-be32-4586-8687-91f458e9ce46",
   "metadata": {},
   "outputs": [],
   "source": [
    "# lista de colunas que terão seus nomes substituidos\n",
    "listColumns = [\"r.a.\",\n",
    "\"aluno\",\n",
    "\"periodoLetivo\",\n",
    "\"codigoCurso\",\n",
    "\"curso\",\n",
    "\"codigoHabilitacao\",\n",
    "\"habilitacao\",\n",
    "\"turma\",\n",
    "\"situacaoMatricula\",\n",
    "\"codigoMatrizCurricular\",\n",
    "\"tipoMatricula\",\n",
    "\"matrizCurricular\",\n",
    "\"turno\",\n",
    "\"dataMatricula\",\n",
    "\"coeficienteRendimento\",\n",
    "\"codigoInstituicaoDestino\",\n",
    "\"motivoTransferencia\",\n",
    "\"anoReferencia\",\n",
    "\"codigoUsuario\",\n",
    "\"e-mail\",\n",
    "\"dataSolicitacaoAlteracao\",\n",
    "\"resultado\",\n",
    "\"telefone\",\n",
    "\"polo\",\n",
    "\"codigoTipoCurso\",\n",
    "\"sexo\",\n",
    "\"nascimento\",\n",
    "\"gestorPolo\"\n",
    "]"
   ]
  },
  {
   "cell_type": "code",
   "execution_count": null,
   "id": "789c6820-24c6-4e93-b9b8-24577bf9130f",
   "metadata": {},
   "outputs": [],
   "source": [
    "# troca os nomes das colunas do dataframe pelos nomes que tem na lista listColumns\n",
    "df = df.toDF(*listColumns)"
   ]
  },
  {
   "cell_type": "code",
   "execution_count": 25,
   "id": "b9497c74-0d41-4ae0-a450-a82ee1abce8b",
   "metadata": {},
   "outputs": [],
   "source": [
    "# lista de colunas que serão dropadas\n",
    "dropColumns = [\"r.a.\",\n",
    "\"periodoLetivo\",\n",
    "\"codigoCurso\",\n",
    "\"codigoHabilitacao\",\n",
    "\"habilitacao\",\n",
    "\"situacaoMatricula\",\n",
    "\"codigoMatrizCurricular\",\n",
    "\"tipoMatricula\",\n",
    "\"matrizCurricular\",\n",
    "\"turno\",\n",
    "\"dataMatricula\",\n",
    "\"coeficienteRendimento\",\n",
    "\"codigoInstituicaoDestino\",\n",
    "\"motivoTransferencia\",\n",
    "\"anoReferencia\",\n",
    "\"codigoUsuario\",\n",
    "\"e-mail\",\n",
    "\"dataSolicitacaoAlteracao\",\n",
    "\"resultado\",\n",
    "\"telefone\",\n",
    "\"polo\",\n",
    "\"codigoTipoCurso\",\n",
    "\"sexo\",\n",
    "\"gestorPolo\"\n",
    "]"
   ]
  },
  {
   "cell_type": "code",
   "execution_count": 26,
   "id": "9c917eb6-6575-49b6-9dfa-9211e959233a",
   "metadata": {},
   "outputs": [],
   "source": [
    "# dropa as colunas da lista dropColumns\n",
    "for col in dropColumns:\n",
    "    df = df.drop(col)"
   ]
  },
  {
   "cell_type": "code",
   "execution_count": 27,
   "id": "bc501308-feb9-4404-b12b-1c30b52a92e3",
   "metadata": {},
   "outputs": [],
   "source": [
    "from pyspark.sql.functions import col\n",
    "\n",
    "# remoção das linhas com valor pensionato da coluna curso\n",
    "df = df.filter(~col('curso').like('%Pensionato%'))"
   ]
  },
  {
   "cell_type": "code",
   "execution_count": 28,
   "id": "d6a170d5-1b6a-4866-bb2c-648d5038b3c7",
   "metadata": {},
   "outputs": [],
   "source": [
    "from pyspark.sql.functions import trim\n",
    "\n",
    "# remoção de espaços nos inicios e finais das linhas da coluna aluno\n",
    "df = df.withColumn('aluno', trim(df['aluno']))\n",
    "df = df.dropDuplicates(['aluno'])"
   ]
  },
  {
   "cell_type": "code",
   "execution_count": 29,
   "id": "2f88317b-09cd-498b-891f-3192eb5301cd",
   "metadata": {},
   "outputs": [],
   "source": [
    "from pyspark.sql.functions import udf\n",
    "from pyspark.sql.types import StringType\n",
    "import unicodedata\n",
    "\n",
    "# Função criada para remoção de acentos, pois quando eu usei dropDuplicates ele estava apagando células que não deveria\n",
    "def remover_acentos(texto):\n",
    "    if texto is not None:\n",
    "        return unicodedata.normalize('NFKD', texto).encode('ASCII', 'ignore').decode('ASCII')\n",
    "    return None\n",
    "\n",
    "remover_acentos_udf = udf(remover_acentos, StringType())"
   ]
  },
  {
   "cell_type": "code",
   "execution_count": 30,
   "id": "4e1d8def-c7dd-4b52-9c7b-b0568a764307",
   "metadata": {},
   "outputs": [],
   "source": [
    "# remoção de acentos e criação de uma coluna para os dados sem acentos\n",
    "df = df.withColumn('alunos', remover_acentos_udf(df['aluno']))"
   ]
  },
  {
   "cell_type": "code",
   "execution_count": 31,
   "id": "99e7d35c-61e0-4005-ac5b-1e22871874ad",
   "metadata": {},
   "outputs": [],
   "source": [
    "# remoção dos duplicados com base na coluna criada sem os acentos\n",
    "df = df.dropDuplicates(['alunos'])"
   ]
  },
  {
   "cell_type": "code",
   "execution_count": 32,
   "id": "9dc43ab9-6879-46b9-ac99-9e77abca462d",
   "metadata": {},
   "outputs": [],
   "source": [
    "# remoção da coluna usada para aplicação dos dropDuplicates\n",
    "df = df.drop('alunos')"
   ]
  },
  {
   "cell_type": "code",
   "execution_count": 33,
   "id": "e7130d50-670d-4a04-b0ec-f0a9bb2b3cb5",
   "metadata": {},
   "outputs": [],
   "source": [
    "from pyspark.sql.functions import when, substring\n",
    "\n",
    "# adição das trocas de nomes da coluna turma dos nomes originais para os nomes dos anos de curso\n",
    "df = df.withColumn(\n",
    "    \"turma\",\n",
    "    when(col(\"turma\").like(\"%01%\") | col(\"turma\").like(\"%02%\"), \"1º ano\")\\\n",
    "    .when(col(\"turma\").like(\"%03%\") | col(\"turma\").like(\"%04%\"), \"2º ano\")\\\n",
    "    .when(col(\"turma\").like(\"%05%\") | col(\"turma\").like(\"%06%\"), \"3º ano\")\\\n",
    "    .when(col(\"turma\").like(\"%07%\") | col(\"turma\").like(\"%08%\"), \"4º ano\")\\\n",
    "    .when(col(\"turma\").like(\"%09%\") | col(\"turma\").like(\"%10%\"), \"5º ano\")\\\n",
    "    .otherwise(col(\"turma\"))\n",
    ")"
   ]
  },
  {
   "cell_type": "code",
   "execution_count": 34,
   "id": "c0c29565-1c74-4dce-9abc-e324552f9ad9",
   "metadata": {},
   "outputs": [],
   "source": [
    "# pega a string de data no formato \"dd/MM/yyyy\", retira os 2 dígitos do mês que tem na string e transforma em inteiro\n",
    "df = df.withColumn('nascimento', substring('nascimento', 4, 2).cast('int'))"
   ]
  },
  {
   "cell_type": "code",
   "execution_count": 35,
   "id": "e2d594b2-6d5f-4dbe-9b54-db938690970a",
   "metadata": {},
   "outputs": [],
   "source": [
    "# ordena a tabela pelas colunas de nascimento, curso, turma e aluno\n",
    "df = df.orderBy('nascimento', 'curso', 'turma', 'aluno')"
   ]
  },
  {
   "cell_type": "code",
   "execution_count": 36,
   "id": "2846e2bf-c341-48d1-9dae-05fc74b5ebf5",
   "metadata": {},
   "outputs": [],
   "source": [
    "# lista para substituir os numeros da coluna nascimento pelos nomes dos meses\n",
    "lista_meses = [\n",
    "    \"Janeiro\",\n",
    "    \"Fevereiro\",\n",
    "    \"Março\",\n",
    "    \"Abril\",\n",
    "    \"Maio\",\n",
    "    \"Junho\",\n",
    "    \"Julho\",\n",
    "    \"Agosto\",\n",
    "    \"Setembro\",\n",
    "    \"Outubro\",\n",
    "    \"Novembro\",\n",
    "    \"Dezembro\"\n",
    "]"
   ]
  },
  {
   "cell_type": "code",
   "execution_count": 37,
   "id": "96047e7b-e73a-4308-b14d-ba6d59429a28",
   "metadata": {},
   "outputs": [],
   "source": [
    "# troca o numero do mês de nascimento pelo indice do mês na lista lista_meses\n",
    "df = df.withColumn(\"nascimento\",\n",
    "    when(col(\"nascimento\") == 1, f\"{lista_meses[0]}\")\\\n",
    "    .when(col(\"nascimento\") == 2, f\"{lista_meses[1]}\")\\\n",
    "    .when(col(\"nascimento\") == 3, f\"{lista_meses[2]}\")\\\n",
    "    .when(col(\"nascimento\") == 4, f\"{lista_meses[3]}\")\\\n",
    "    .when(col(\"nascimento\") == 5, f\"{lista_meses[4]}\")\\\n",
    "    .when(col(\"nascimento\") == 6, f\"{lista_meses[5]}\")\\\n",
    "    .when(col(\"nascimento\") == 7, f\"{lista_meses[6]}\")\\\n",
    "    .when(col(\"nascimento\") == 8, f\"{lista_meses[7]}\")\\\n",
    "    .when(col(\"nascimento\") == 9, f\"{lista_meses[8]}\")\\\n",
    "    .when(col(\"nascimento\") == 10, f\"{lista_meses[9]}\")\\\n",
    "    .when(col(\"nascimento\") == 11, f\"{lista_meses[10]}\")\\\n",
    "    .when(col(\"nascimento\") == 12, f\"{lista_meses[11]}\")\\\n",
    "    .otherwise(col(\"nascimento\"))\n",
    ")"
   ]
  },
  {
   "cell_type": "code",
   "execution_count": 38,
   "id": "c925b5f1-8d31-408f-a615-35a7bb78a792",
   "metadata": {},
   "outputs": [],
   "source": [
    "# gravação do csv com os arquivos processados\n",
    "df.write.csv(\\\n",
    "                path = './aniversariantes',\n",
    "                sep = ';',\n",
    "                header = True,\n",
    "                mode = 'overwrite'\n",
    ")"
   ]
  }
 ],
 "metadata": {
  "kernelspec": {
   "display_name": "Python 3 (ipykernel)",
   "language": "python",
   "name": "python3"
  },
  "language_info": {
   "codemirror_mode": {
    "name": "ipython",
    "version": 3
   },
   "file_extension": ".py",
   "mimetype": "text/x-python",
   "name": "python",
   "nbconvert_exporter": "python",
   "pygments_lexer": "ipython3",
   "version": "3.11.2"
  }
 },
 "nbformat": 4,
 "nbformat_minor": 5
}
